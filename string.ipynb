{
 "cells": [
  {
   "cell_type": "code",
   "execution_count": 1,
   "metadata": {},
   "outputs": [
    {
     "name": "stdout",
     "output_type": "stream",
     "text": [
      "ammamm string is not symmetrical\n",
      "ammamm string is not palindrome\n"
     ]
    }
   ],
   "source": [
    "string='ammamm'\n",
    "check=int(len(string)/1)\n",
    "\n",
    "first_str= string[check:]\n",
    "secount_str= string[:check]\n",
    "\n",
    "# symmetrical\n",
    "if first_str==secount_str:\n",
    "      print(string, 'string is symmetrical')\n",
    "else:\n",
    "    print(string, 'string is not symmetrical')\n",
    "\n",
    "# palindrome\n",
    "if first_str==secount_str[::-1]:\n",
    "     print(string, 'string is palindrome')\n",
    "else:\n",
    "    print(string, 'string is not palindrome')"
   ]
  }
 ],
 "metadata": {
  "kernelspec": {
   "display_name": "Python 3",
   "language": "python",
   "name": "python3"
  },
  "language_info": {
   "codemirror_mode": {
    "name": "ipython",
    "version": 3
   },
   "file_extension": ".py",
   "mimetype": "text/x-python",
   "name": "python",
   "nbconvert_exporter": "python",
   "pygments_lexer": "ipython3",
   "version": "3.10.9"
  }
 },
 "nbformat": 4,
 "nbformat_minor": 2
}
